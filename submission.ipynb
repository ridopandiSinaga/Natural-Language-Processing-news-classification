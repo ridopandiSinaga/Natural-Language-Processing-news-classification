{
  "nbformat": 4,
  "nbformat_minor": 0,
  "metadata": {
    "colab": {
      "provenance": []
    },
    "kernelspec": {
      "name": "python3",
      "display_name": "Python 3"
    },
    "language_info": {
      "name": "python"
    }
  },
  "cells": [
    {
      "cell_type": "markdown",
      "source": [
        "---\n",
        "---\n",
        "\n",
        "\n",
        "\n",
        "\n",
        "\n",
        "# Membuat Model NLP dengan TensorFlow\n",
        "\n",
        "---\n",
        "\n",
        "---\n",
        "\n",
        "# Data Diri\n",
        "\n",
        "Nama: Ridopandi Sinaga\n",
        "\n",
        "E-mail: ridosinaga037@gmail.com\n",
        "\n",
        "---"
      ],
      "metadata": {
        "id": "6aDT6JDMymuB"
      }
    },
    {
      "cell_type": "code",
      "source": [
        "\n",
        "!wget --no-check-certificate \\\n",
        "  https://storage.googleapis.com/dataset-uploader/bbc/bbc-text.csv \\\n",
        "  -O /tmp/bbc-text.csv"
      ],
      "metadata": {
        "colab": {
          "base_uri": "https://localhost:8080/"
        },
        "id": "Q0iR5yuQynh2",
        "outputId": "3338bafe-4e48-4c17-9240-95e8276f1e59"
      },
      "execution_count": 146,
      "outputs": [
        {
          "output_type": "stream",
          "name": "stdout",
          "text": [
            "--2023-06-21 21:09:32--  https://storage.googleapis.com/dataset-uploader/bbc/bbc-text.csv\n",
            "Resolving storage.googleapis.com (storage.googleapis.com)... 172.217.203.128, 172.253.123.128, 142.250.98.128, ...\n",
            "Connecting to storage.googleapis.com (storage.googleapis.com)|172.217.203.128|:443... connected.\n",
            "HTTP request sent, awaiting response... 200 OK\n",
            "Length: 5057493 (4.8M) [text/csv]\n",
            "Saving to: ‘/tmp/bbc-text.csv’\n",
            "\n",
            "/tmp/bbc-text.csv   100%[===================>]   4.82M  --.-KB/s    in 0.03s   \n",
            "\n",
            "2023-06-21 21:09:32 (141 MB/s) - ‘/tmp/bbc-text.csv’ saved [5057493/5057493]\n",
            "\n"
          ]
        }
      ]
    },
    {
      "cell_type": "code",
      "source": [
        "import pandas as pd\n",
        "df = pd.read_csv('/tmp/bbc-text.csv')\n",
        "df.info()\n",
        "df"
      ],
      "metadata": {
        "colab": {
          "base_uri": "https://localhost:8080/",
          "height": 580
        },
        "id": "NKvYyaulytND",
        "outputId": "26afd3da-a1b2-45ae-ebc6-0c227d09d416"
      },
      "execution_count": 312,
      "outputs": [
        {
          "output_type": "stream",
          "name": "stdout",
          "text": [
            "<class 'pandas.core.frame.DataFrame'>\n",
            "RangeIndex: 2225 entries, 0 to 2224\n",
            "Data columns (total 2 columns):\n",
            " #   Column    Non-Null Count  Dtype \n",
            "---  ------    --------------  ----- \n",
            " 0   category  2225 non-null   object\n",
            " 1   text      2225 non-null   object\n",
            "dtypes: object(2)\n",
            "memory usage: 34.9+ KB\n"
          ]
        },
        {
          "output_type": "execute_result",
          "data": {
            "text/plain": [
              "           category                                               text\n",
              "0              tech  tv future in the hands of viewers with home th...\n",
              "1          business  worldcom boss  left books alone  former worldc...\n",
              "2             sport  tigers wary of farrell  gamble  leicester say ...\n",
              "3             sport  yeading face newcastle in fa cup premiership s...\n",
              "4     entertainment  ocean s twelve raids box office ocean s twelve...\n",
              "...             ...                                                ...\n",
              "2220       business  cars pull down us retail figures us retail sal...\n",
              "2221       politics  kilroy unveils immigration policy ex-chatshow ...\n",
              "2222  entertainment  rem announce new glasgow concert us band rem h...\n",
              "2223       politics  how political squabbles snowball it s become c...\n",
              "2224          sport  souness delight at euro progress boss graeme s...\n",
              "\n",
              "[2225 rows x 2 columns]"
            ],
            "text/html": [
              "\n",
              "  <div id=\"df-c6466d53-cd19-4f36-8fe0-2e4d47be7403\">\n",
              "    <div class=\"colab-df-container\">\n",
              "      <div>\n",
              "<style scoped>\n",
              "    .dataframe tbody tr th:only-of-type {\n",
              "        vertical-align: middle;\n",
              "    }\n",
              "\n",
              "    .dataframe tbody tr th {\n",
              "        vertical-align: top;\n",
              "    }\n",
              "\n",
              "    .dataframe thead th {\n",
              "        text-align: right;\n",
              "    }\n",
              "</style>\n",
              "<table border=\"1\" class=\"dataframe\">\n",
              "  <thead>\n",
              "    <tr style=\"text-align: right;\">\n",
              "      <th></th>\n",
              "      <th>category</th>\n",
              "      <th>text</th>\n",
              "    </tr>\n",
              "  </thead>\n",
              "  <tbody>\n",
              "    <tr>\n",
              "      <th>0</th>\n",
              "      <td>tech</td>\n",
              "      <td>tv future in the hands of viewers with home th...</td>\n",
              "    </tr>\n",
              "    <tr>\n",
              "      <th>1</th>\n",
              "      <td>business</td>\n",
              "      <td>worldcom boss  left books alone  former worldc...</td>\n",
              "    </tr>\n",
              "    <tr>\n",
              "      <th>2</th>\n",
              "      <td>sport</td>\n",
              "      <td>tigers wary of farrell  gamble  leicester say ...</td>\n",
              "    </tr>\n",
              "    <tr>\n",
              "      <th>3</th>\n",
              "      <td>sport</td>\n",
              "      <td>yeading face newcastle in fa cup premiership s...</td>\n",
              "    </tr>\n",
              "    <tr>\n",
              "      <th>4</th>\n",
              "      <td>entertainment</td>\n",
              "      <td>ocean s twelve raids box office ocean s twelve...</td>\n",
              "    </tr>\n",
              "    <tr>\n",
              "      <th>...</th>\n",
              "      <td>...</td>\n",
              "      <td>...</td>\n",
              "    </tr>\n",
              "    <tr>\n",
              "      <th>2220</th>\n",
              "      <td>business</td>\n",
              "      <td>cars pull down us retail figures us retail sal...</td>\n",
              "    </tr>\n",
              "    <tr>\n",
              "      <th>2221</th>\n",
              "      <td>politics</td>\n",
              "      <td>kilroy unveils immigration policy ex-chatshow ...</td>\n",
              "    </tr>\n",
              "    <tr>\n",
              "      <th>2222</th>\n",
              "      <td>entertainment</td>\n",
              "      <td>rem announce new glasgow concert us band rem h...</td>\n",
              "    </tr>\n",
              "    <tr>\n",
              "      <th>2223</th>\n",
              "      <td>politics</td>\n",
              "      <td>how political squabbles snowball it s become c...</td>\n",
              "    </tr>\n",
              "    <tr>\n",
              "      <th>2224</th>\n",
              "      <td>sport</td>\n",
              "      <td>souness delight at euro progress boss graeme s...</td>\n",
              "    </tr>\n",
              "  </tbody>\n",
              "</table>\n",
              "<p>2225 rows × 2 columns</p>\n",
              "</div>\n",
              "      <button class=\"colab-df-convert\" onclick=\"convertToInteractive('df-c6466d53-cd19-4f36-8fe0-2e4d47be7403')\"\n",
              "              title=\"Convert this dataframe to an interactive table.\"\n",
              "              style=\"display:none;\">\n",
              "        \n",
              "  <svg xmlns=\"http://www.w3.org/2000/svg\" height=\"24px\"viewBox=\"0 0 24 24\"\n",
              "       width=\"24px\">\n",
              "    <path d=\"M0 0h24v24H0V0z\" fill=\"none\"/>\n",
              "    <path d=\"M18.56 5.44l.94 2.06.94-2.06 2.06-.94-2.06-.94-.94-2.06-.94 2.06-2.06.94zm-11 1L8.5 8.5l.94-2.06 2.06-.94-2.06-.94L8.5 2.5l-.94 2.06-2.06.94zm10 10l.94 2.06.94-2.06 2.06-.94-2.06-.94-.94-2.06-.94 2.06-2.06.94z\"/><path d=\"M17.41 7.96l-1.37-1.37c-.4-.4-.92-.59-1.43-.59-.52 0-1.04.2-1.43.59L10.3 9.45l-7.72 7.72c-.78.78-.78 2.05 0 2.83L4 21.41c.39.39.9.59 1.41.59.51 0 1.02-.2 1.41-.59l7.78-7.78 2.81-2.81c.8-.78.8-2.07 0-2.86zM5.41 20L4 18.59l7.72-7.72 1.47 1.35L5.41 20z\"/>\n",
              "  </svg>\n",
              "      </button>\n",
              "      \n",
              "  <style>\n",
              "    .colab-df-container {\n",
              "      display:flex;\n",
              "      flex-wrap:wrap;\n",
              "      gap: 12px;\n",
              "    }\n",
              "\n",
              "    .colab-df-convert {\n",
              "      background-color: #E8F0FE;\n",
              "      border: none;\n",
              "      border-radius: 50%;\n",
              "      cursor: pointer;\n",
              "      display: none;\n",
              "      fill: #1967D2;\n",
              "      height: 32px;\n",
              "      padding: 0 0 0 0;\n",
              "      width: 32px;\n",
              "    }\n",
              "\n",
              "    .colab-df-convert:hover {\n",
              "      background-color: #E2EBFA;\n",
              "      box-shadow: 0px 1px 2px rgba(60, 64, 67, 0.3), 0px 1px 3px 1px rgba(60, 64, 67, 0.15);\n",
              "      fill: #174EA6;\n",
              "    }\n",
              "\n",
              "    [theme=dark] .colab-df-convert {\n",
              "      background-color: #3B4455;\n",
              "      fill: #D2E3FC;\n",
              "    }\n",
              "\n",
              "    [theme=dark] .colab-df-convert:hover {\n",
              "      background-color: #434B5C;\n",
              "      box-shadow: 0px 1px 3px 1px rgba(0, 0, 0, 0.15);\n",
              "      filter: drop-shadow(0px 1px 2px rgba(0, 0, 0, 0.3));\n",
              "      fill: #FFFFFF;\n",
              "    }\n",
              "  </style>\n",
              "\n",
              "      <script>\n",
              "        const buttonEl =\n",
              "          document.querySelector('#df-c6466d53-cd19-4f36-8fe0-2e4d47be7403 button.colab-df-convert');\n",
              "        buttonEl.style.display =\n",
              "          google.colab.kernel.accessAllowed ? 'block' : 'none';\n",
              "\n",
              "        async function convertToInteractive(key) {\n",
              "          const element = document.querySelector('#df-c6466d53-cd19-4f36-8fe0-2e4d47be7403');\n",
              "          const dataTable =\n",
              "            await google.colab.kernel.invokeFunction('convertToInteractive',\n",
              "                                                     [key], {});\n",
              "          if (!dataTable) return;\n",
              "\n",
              "          const docLinkHtml = 'Like what you see? Visit the ' +\n",
              "            '<a target=\"_blank\" href=https://colab.research.google.com/notebooks/data_table.ipynb>data table notebook</a>'\n",
              "            + ' to learn more about interactive tables.';\n",
              "          element.innerHTML = '';\n",
              "          dataTable['output_type'] = 'display_data';\n",
              "          await google.colab.output.renderOutput(dataTable, element);\n",
              "          const docLink = document.createElement('div');\n",
              "          docLink.innerHTML = docLinkHtml;\n",
              "          element.appendChild(docLink);\n",
              "        }\n",
              "      </script>\n",
              "    </div>\n",
              "  </div>\n",
              "  "
            ]
          },
          "metadata": {},
          "execution_count": 312
        }
      ]
    },
    {
      "cell_type": "code",
      "source": [
        "# Label Data Distribution/Proportion Graph\n",
        "import seaborn as sns\n",
        "import matplotlib.pyplot as plt\n",
        "\n",
        "count = df['category'].value_counts()\n",
        "sns.catplot(x='category', kind='count', data=df)\n",
        "plt.title('Label Data Distribution')\n",
        "plt.xlabel('category')\n",
        "plt.ylabel('Count')\n",
        "plt.show()"
      ],
      "metadata": {
        "colab": {
          "base_uri": "https://localhost:8080/",
          "height": 529
        },
        "id": "LTjjhjfV4qYE",
        "outputId": "72a715cc-cb96-4797-bb8d-e5c2471a0628"
      },
      "execution_count": 313,
      "outputs": [
        {
          "output_type": "display_data",
          "data": {
            "text/plain": [
              "<Figure size 500x500 with 1 Axes>"
            ],
            "image/png": "[encoded data removed]"
          },
          "metadata": {}
        }
      ]
    },
    {
      "cell_type": "code",
      "source": [
        "# Change the label into individual categories\n",
        "# One hot encoding\n",
        "category_ = pd.get_dummies(df['category'])\n",
        "df_new   = pd.concat([df, category_], axis=1)\n",
        "df_new   = df_new.drop(['category'], axis=1)\n",
        "df_new"
      ],
      "metadata": {
        "id": "Q7w4a_rG1eYN",
        "colab": {
          "base_uri": "https://localhost:8080/",
          "height": 424
        },
        "outputId": "a827f224-fda9-4f9b-9b33-cd87033d97a7"
      },
      "execution_count": 314,
      "outputs": [
        {
          "output_type": "execute_result",
          "data": {
            "text/plain": [
              "                                                   text  business  \\\n",
              "0     tv future in the hands of viewers with home th...         0   \n",
              "1     worldcom boss  left books alone  former worldc...         1   \n",
              "2     tigers wary of farrell  gamble  leicester say ...         0   \n",
              "3     yeading face newcastle in fa cup premiership s...         0   \n",
              "4     ocean s twelve raids box office ocean s twelve...         0   \n",
              "...                                                 ...       ...   \n",
              "2220  cars pull down us retail figures us retail sal...         1   \n",
              "2221  kilroy unveils immigration policy ex-chatshow ...         0   \n",
              "2222  rem announce new glasgow concert us band rem h...         0   \n",
              "2223  how political squabbles snowball it s become c...         0   \n",
              "2224  souness delight at euro progress boss graeme s...         0   \n",
              "\n",
              "      entertainment  politics  sport  tech  \n",
              "0                 0         0      0     1  \n",
              "1                 0         0      0     0  \n",
              "2                 0         0      1     0  \n",
              "3                 0         0      1     0  \n",
              "4                 1         0      0     0  \n",
              "...             ...       ...    ...   ...  \n",
              "2220              0         0      0     0  \n",
              "2221              0         1      0     0  \n",
              "2222              1         0      0     0  \n",
              "2223              0         1      0     0  \n",
              "2224              0         0      1     0  \n",
              "\n",
              "[2225 rows x 6 columns]"
            ],
            "text/html": [
              "\n",
              "  <div id=\"df-455ea591-c1d9-48a3-bf12-b9084fa972c3\">\n",
              "    <div class=\"colab-df-container\">\n",
              "      <div>\n",
              "<style scoped>\n",
              "    .dataframe tbody tr th:only-of-type {\n",
              "        vertical-align: middle;\n",
              "    }\n",
              "\n",
              "    .dataframe tbody tr th {\n",
              "        vertical-align: top;\n",
              "    }\n",
              "\n",
              "    .dataframe thead th {\n",
              "        text-align: right;\n",
              "    }\n",
              "</style>\n",
              "<table border=\"1\" class=\"dataframe\">\n",
              "  <thead>\n",
              "    <tr style=\"text-align: right;\">\n",
              "      <th></th>\n",
              "      <th>text</th>\n",
              "      <th>business</th>\n",
              "      <th>entertainment</th>\n",
              "      <th>politics</th>\n",
              "      <th>sport</th>\n",
              "      <th>tech</th>\n",
              "    </tr>\n",
              "  </thead>\n",
              "  <tbody>\n",
              "    <tr>\n",
              "      <th>0</th>\n",
              "      <td>tv future in the hands of viewers with home th...</td>\n",
              "      <td>0</td>\n",
              "      <td>0</td>\n",
              "      <td>0</td>\n",
              "      <td>0</td>\n",
              "      <td>1</td>\n",
              "    </tr>\n",
              "    <tr>\n",
              "      <th>1</th>\n",
              "      <td>worldcom boss  left books alone  former worldc...</td>\n",
              "      <td>1</td>\n",
              "      <td>0</td>\n",
              "      <td>0</td>\n",
              "      <td>0</td>\n",
              "      <td>0</td>\n",
              "    </tr>\n",
              "    <tr>\n",
              "      <th>2</th>\n",
              "      <td>tigers wary of farrell  gamble  leicester say ...</td>\n",
              "      <td>0</td>\n",
              "      <td>0</td>\n",
              "      <td>0</td>\n",
              "      <td>1</td>\n",
              "      <td>0</td>\n",
              "    </tr>\n",
              "    <tr>\n",
              "      <th>3</th>\n",
              "      <td>yeading face newcastle in fa cup premiership s...</td>\n",
              "      <td>0</td>\n",
              "      <td>0</td>\n",
              "      <td>0</td>\n",
              "      <td>1</td>\n",
              "      <td>0</td>\n",
              "    </tr>\n",
              "    <tr>\n",
              "      <th>4</th>\n",
              "      <td>ocean s twelve raids box office ocean s twelve...</td>\n",
              "      <td>0</td>\n",
              "      <td>1</td>\n",
              "      <td>0</td>\n",
              "      <td>0</td>\n",
              "      <td>0</td>\n",
              "    </tr>\n",
              "    <tr>\n",
              "      <th>...</th>\n",
              "      <td>...</td>\n",
              "      <td>...</td>\n",
              "      <td>...</td>\n",
              "      <td>...</td>\n",
              "      <td>...</td>\n",
              "      <td>...</td>\n",
              "    </tr>\n",
              "    <tr>\n",
              "      <th>2220</th>\n",
              "      <td>cars pull down us retail figures us retail sal...</td>\n",
              "      <td>1</td>\n",
              "      <td>0</td>\n",
              "      <td>0</td>\n",
              "      <td>0</td>\n",
              "      <td>0</td>\n",
              "    </tr>\n",
              "    <tr>\n",
              "      <th>2221</th>\n",
              "      <td>kilroy unveils immigration policy ex-chatshow ...</td>\n",
              "      <td>0</td>\n",
              "      <td>0</td>\n",
              "      <td>1</td>\n",
              "      <td>0</td>\n",
              "      <td>0</td>\n",
              "    </tr>\n",
              "    <tr>\n",
              "      <th>2222</th>\n",
              "      <td>rem announce new glasgow concert us band rem h...</td>\n",
              "      <td>0</td>\n",
              "      <td>1</td>\n",
              "      <td>0</td>\n",
              "      <td>0</td>\n",
              "      <td>0</td>\n",
              "    </tr>\n",
              "    <tr>\n",
              "      <th>2223</th>\n",
              "      <td>how political squabbles snowball it s become c...</td>\n",
              "      <td>0</td>\n",
              "      <td>0</td>\n",
              "      <td>1</td>\n",
              "      <td>0</td>\n",
              "      <td>0</td>\n",
              "    </tr>\n",
              "    <tr>\n",
              "      <th>2224</th>\n",
              "      <td>souness delight at euro progress boss graeme s...</td>\n",
              "      <td>0</td>\n",
              "      <td>0</td>\n",
              "      <td>0</td>\n",
              "      <td>1</td>\n",
              "      <td>0</td>\n",
              "    </tr>\n",
              "  </tbody>\n",
              "</table>\n",
              "<p>2225 rows × 6 columns</p>\n",
              "</div>\n",
              "      <button class=\"colab-df-convert\" onclick=\"convertToInteractive('df-455ea591-c1d9-48a3-bf12-b9084fa972c3')\"\n",
              "              title=\"Convert this dataframe to an interactive table.\"\n",
              "              style=\"display:none;\">\n",
              "        \n",
              "  <svg xmlns=\"http://www.w3.org/2000/svg\" height=\"24px\"viewBox=\"0 0 24 24\"\n",
              "       width=\"24px\">\n",
              "    <path d=\"M0 0h24v24H0V0z\" fill=\"none\"/>\n",
              "    <path d=\"M18.56 5.44l.94 2.06.94-2.06 2.06-.94-2.06-.94-.94-2.06-.94 2.06-2.06.94zm-11 1L8.5 8.5l.94-2.06 2.06-.94-2.06-.94L8.5 2.5l-.94 2.06-2.06.94zm10 10l.94 2.06.94-2.06 2.06-.94-2.06-.94-.94-2.06-.94 2.06-2.06.94z\"/><path d=\"M17.41 7.96l-1.37-1.37c-.4-.4-.92-.59-1.43-.59-.52 0-1.04.2-1.43.59L10.3 9.45l-7.72 7.72c-.78.78-.78 2.05 0 2.83L4 21.41c.39.39.9.59 1.41.59.51 0 1.02-.2 1.41-.59l7.78-7.78 2.81-2.81c.8-.78.8-2.07 0-2.86zM5.41 20L4 18.59l7.72-7.72 1.47 1.35L5.41 20z\"/>\n",
              "  </svg>\n",
              "      </button>\n",
              "      \n",
              "  <style>\n",
              "    .colab-df-container {\n",
              "      display:flex;\n",
              "      flex-wrap:wrap;\n",
              "      gap: 12px;\n",
              "    }\n",
              "\n",
              "    .colab-df-convert {\n",
              "      background-color: #E8F0FE;\n",
              "      border: none;\n",
              "      border-radius: 50%;\n",
              "      cursor: pointer;\n",
              "      display: none;\n",
              "      fill: #1967D2;\n",
              "      height: 32px;\n",
              "      padding: 0 0 0 0;\n",
              "      width: 32px;\n",
              "    }\n",
              "\n",
              "    .colab-df-convert:hover {\n",
              "      background-color: #E2EBFA;\n",
              "      box-shadow: 0px 1px 2px rgba(60, 64, 67, 0.3), 0px 1px 3px 1px rgba(60, 64, 67, 0.15);\n",
              "      fill: #174EA6;\n",
              "    }\n",
              "\n",
              "    [theme=dark] .colab-df-convert {\n",
              "      background-color: #3B4455;\n",
              "      fill: #D2E3FC;\n",
              "    }\n",
              "\n",
              "    [theme=dark] .colab-df-convert:hover {\n",
              "      background-color: #434B5C;\n",
              "      box-shadow: 0px 1px 3px 1px rgba(0, 0, 0, 0.15);\n",
              "      filter: drop-shadow(0px 1px 2px rgba(0, 0, 0, 0.3));\n",
              "      fill: #FFFFFF;\n",
              "    }\n",
              "  </style>\n",
              "\n",
              "      <script>\n",
              "        const buttonEl =\n",
              "          document.querySelector('#df-455ea591-c1d9-48a3-bf12-b9084fa972c3 button.colab-df-convert');\n",
              "        buttonEl.style.display =\n",
              "          google.colab.kernel.accessAllowed ? 'block' : 'none';\n",
              "\n",
              "        async function convertToInteractive(key) {\n",
              "          const element = document.querySelector('#df-455ea591-c1d9-48a3-bf12-b9084fa972c3');\n",
              "          const dataTable =\n",
              "            await google.colab.kernel.invokeFunction('convertToInteractive',\n",
              "                                                     [key], {});\n",
              "          if (!dataTable) return;\n",
              "\n",
              "          const docLinkHtml = 'Like what you see? Visit the ' +\n",
              "            '<a target=\"_blank\" href=https://colab.research.google.com/notebooks/data_table.ipynb>data table notebook</a>'\n",
              "            + ' to learn more about interactive tables.';\n",
              "          element.innerHTML = '';\n",
              "          dataTable['output_type'] = 'display_data';\n",
              "          await google.colab.output.renderOutput(dataTable, element);\n",
              "          const docLink = document.createElement('div');\n",
              "          docLink.innerHTML = docLinkHtml;\n",
              "          element.appendChild(docLink);\n",
              "        }\n",
              "      </script>\n",
              "    </div>\n",
              "  </div>\n",
              "  "
            ]
          },
          "metadata": {},
          "execution_count": 314
        }
      ]
    },
    {
      "cell_type": "code",
      "source": [
        "# Lower case, and delete whitespace\n",
        "import string\n",
        "df_new['text'] = df_new['text'].str.lower().str.strip()"
      ],
      "metadata": {
        "id": "vtko-qF7_Wz0"
      },
      "execution_count": 315,
      "outputs": []
    },
    {
      "cell_type": "markdown",
      "source": [],
      "metadata": {
        "id": "ttdx-UJC--AY"
      }
    },
    {
      "cell_type": "code",
      "source": [
        "# Delete punctuation (tanda baca)\n",
        "def removePunctuation(text):\n",
        "    for punct in string.punctuation:\n",
        "        text = text.replace(punct, ' ')\n",
        "    return text\n",
        "\n",
        "df_new['text'] = df_new['text'].apply(removePunctuation)"
      ],
      "metadata": {
        "id": "-6jSm7vW_mLA"
      },
      "execution_count": 316,
      "outputs": []
    },
    {
      "cell_type": "code",
      "source": [
        "# Delete stopwords\n",
        "import nltk\n",
        "nltk.download('stopwords')\n",
        "from nltk.corpus import stopwords\n",
        "\n",
        "stop = stopwords.words('english')\n",
        "\n",
        "df_new['text'] = df_new['text'].apply(lambda x: ' '.join([\n",
        "    word for word in x.split() if word not in (stop)\n",
        "]))"
      ],
      "metadata": {
        "colab": {
          "base_uri": "https://localhost:8080/"
        },
        "id": "4hj9XVD4_san",
        "outputId": "b57db26f-1f87-49ce-fa54-6a0e0747174b"
      },
      "execution_count": 317,
      "outputs": [
        {
          "output_type": "stream",
          "name": "stderr",
          "text": [
            "[nltk_data] Downloading package stopwords to /root/nltk_data...\n",
            "[nltk_data]   Package stopwords is already up-to-date!\n"
          ]
        }
      ]
    },
    {
      "cell_type": "code",
      "source": [
        "# Seperate text and label values respectively in dataframe into numpy data type\n",
        "tweet = df_new['text'].values\n",
        "label = df_new[['business', 'entertainment', 'politics', 'sport', 'tech']].values"
      ],
      "metadata": {
        "id": "XAis6yvPApxp"
      },
      "execution_count": 319,
      "outputs": []
    },
    {
      "cell_type": "code",
      "source": [
        "# Train and test data split\n",
        "from sklearn.model_selection import train_test_split\n",
        "\n",
        "descTrain, descTest, labelTrain, labelTest = train_test_split(tweet, label, test_size=0.2, random_state=1)\n",
        "\n",
        "print(f'Train : {descTrain.shape} {labelTrain.shape}')\n",
        "print(f'Test  : {descTest.shape} {labelTest.shape}')"
      ],
      "metadata": {
        "colab": {
          "base_uri": "https://localhost:8080/"
        },
        "id": "d8oNS3HWBU5z",
        "outputId": "38c4a6c4-e35d-4e0f-f983-92fa809a5f16"
      },
      "execution_count": 320,
      "outputs": [
        {
          "output_type": "stream",
          "name": "stdout",
          "text": [
            "Train : (1780,) (1780, 5)\n",
            "Test  : (445,) (445, 5)\n"
          ]
        }
      ]
    },
    {
      "cell_type": "code",
      "source": [
        "# Tokenizer sequence and padding\n",
        "from tensorflow.keras.preprocessing.text import Tokenizer\n",
        "from tensorflow.keras.preprocessing.sequence import pad_sequences\n",
        "\n",
        "tokenizer = Tokenizer(num_words=5000, oov_token='x')\n",
        "tokenizer.fit_on_texts(descTrain)\n",
        "tokenizer.fit_on_texts(descTest)\n",
        "\n",
        "sequenceTrain = tokenizer.texts_to_sequences(descTrain)\n",
        "sequenceTest  = tokenizer.texts_to_sequences(descTest)\n",
        "\n",
        "paddedTrain = pad_sequences(sequenceTrain, maxlen=100)\n",
        "paddedTest  = pad_sequences(sequenceTest,  maxlen=100)"
      ],
      "metadata": {
        "id": "YNyFIUCiC4Lv"
      },
      "execution_count": 321,
      "outputs": []
    },
    {
      "cell_type": "code",
      "source": [
        "len(tokenizer.word_index)"
      ],
      "metadata": {
        "colab": {
          "base_uri": "https://localhost:8080/"
        },
        "id": "CUzOBmmOD2tR",
        "outputId": "3fb3b17c-4051-4874-9e44-511eedabdecb"
      },
      "execution_count": 322,
      "outputs": [
        {
          "output_type": "execute_result",
          "data": {
            "text/plain": [
              "29577"
            ]
          },
          "metadata": {},
          "execution_count": 322
        }
      ]
    },
    {
      "cell_type": "code",
      "source": [
        "# Model architecture\n",
        "import tensorflow as tf\n",
        "\n",
        "model = tf.keras.Sequential([\n",
        "    tf.keras.layers.Embedding(input_dim=5000, output_dim=16, input_length=100),\n",
        "    tf.keras.layers.Bidirectional(tf.keras.layers.LSTM(128, return_sequences=True)),\n",
        "    tf.keras.layers.GlobalMaxPool1D(),\n",
        "    tf.keras.layers.Dense(64, activation='relu'),\n",
        "    tf.keras.layers.Dense(32, activation='relu'),\n",
        "    tf.keras.layers.Dropout(0.25),\n",
        "    tf.keras.layers.Dense(5, activation='softmax')\n",
        "])\n",
        "\n",
        "model.compile(\n",
        "    optimizer = 'adam',\n",
        "    loss      = 'categorical_crossentropy',\n",
        "    metrics   = ['accuracy']\n",
        ")\n",
        "\n",
        "model.summary()"
      ],
      "metadata": {
        "colab": {
          "base_uri": "https://localhost:8080/"
        },
        "id": "fHBmDcRtD7Ft",
        "outputId": "6f686fda-82c6-4085-e138-39ae9fbac704"
      },
      "execution_count": 333,
      "outputs": [
        {
          "output_type": "stream",
          "name": "stdout",
          "text": [
            "Model: \"sequential_26\"\n",
            "_________________________________________________________________\n",
            " Layer (type)                Output Shape              Param #   \n",
            "=================================================================\n",
            " embedding_26 (Embedding)    (None, 100, 16)           80000     \n",
            "                                                                 \n",
            " bidirectional_10 (Bidirecti  (None, 100, 256)         148480    \n",
            " onal)                                                           \n",
            "                                                                 \n",
            " global_max_pooling1d_10 (Gl  (None, 256)              0         \n",
            " obalMaxPooling1D)                                               \n",
            "                                                                 \n",
            " dense_79 (Dense)            (None, 64)                16448     \n",
            "                                                                 \n",
            " dense_80 (Dense)            (None, 32)                2080      \n",
            "                                                                 \n",
            " dropout_11 (Dropout)        (None, 32)                0         \n",
            "                                                                 \n",
            " dense_81 (Dense)            (None, 5)                 165       \n",
            "                                                                 \n",
            "=================================================================\n",
            "Total params: 247,173\n",
            "Trainable params: 247,173\n",
            "Non-trainable params: 0\n",
            "_________________________________________________________________\n"
          ]
        }
      ]
    },
    {
      "cell_type": "code",
      "source": [
        "#Callback\n",
        "class stopCallback(tf.keras.callbacks.Callback):\n",
        "    def on_epoch_end(self, epoch, logs={}):\n",
        "        if (logs.get('accuracy') > 0.9 and logs.get('val_accuracy') > 0.9):\n",
        "            print('\\naccuracy and val_accuracy reach > 90%')\n",
        "            self.model.stop_training = True\n",
        "\n",
        "stopTraining = stopCallback()\n",
        "\n",
        "reduceLROP   = tf.keras.callbacks.ReduceLROnPlateau(monitor='val_loss', factor=0.1, patience=2)"
      ],
      "metadata": {
        "id": "PCf8zEvHEBaS"
      },
      "execution_count": 334,
      "outputs": []
    },
    {
      "cell_type": "code",
      "source": [
        "#train model\n",
        "epoch = 30\n",
        "\n",
        "history = model.fit(\n",
        "    paddedTrain,\n",
        "    labelTrain,\n",
        "    batch_size      = 128,\n",
        "    epochs          = epoch,\n",
        "    steps_per_epoch = 10,\n",
        "    validation_data = (paddedTest, labelTest),\n",
        "    verbose         = 2,\n",
        "    callbacks       = [reduceLROP]\n",
        ")"
      ],
      "metadata": {
        "colab": {
          "base_uri": "https://localhost:8080/"
        },
        "id": "V4Oi5QiPEIFz",
        "outputId": "057f9dd2-3da4-470d-a869-801764213c59"
      },
      "execution_count": 343,
      "outputs": [
        {
          "output_type": "stream",
          "name": "stdout",
          "text": [
            "Epoch 1/30\n",
            "10/10 - 6s - loss: 0.1600 - accuracy: 0.9570 - val_loss: 0.6041 - val_accuracy: 0.8494 - lr: 9.9999e-41 - 6s/epoch - 642ms/step\n",
            "Epoch 2/30\n",
            "10/10 - 7s - loss: 0.1396 - accuracy: 0.9629 - val_loss: 0.6041 - val_accuracy: 0.8494 - lr: 9.9999e-41 - 7s/epoch - 671ms/step\n",
            "Epoch 3/30\n",
            "10/10 - 7s - loss: 0.1583 - accuracy: 0.9637 - val_loss: 0.6041 - val_accuracy: 0.8494 - lr: 9.9999e-41 - 7s/epoch - 705ms/step\n",
            "Epoch 4/30\n",
            "10/10 - 6s - loss: 0.1619 - accuracy: 0.9617 - val_loss: 0.6041 - val_accuracy: 0.8494 - lr: 9.9997e-42 - 6s/epoch - 577ms/step\n",
            "Epoch 5/30\n",
            "10/10 - 9s - loss: 0.1398 - accuracy: 0.9629 - val_loss: 0.6041 - val_accuracy: 0.8494 - lr: 9.9997e-42 - 9s/epoch - 866ms/step\n",
            "Epoch 6/30\n",
            "10/10 - 6s - loss: 0.1486 - accuracy: 0.9629 - val_loss: 0.6041 - val_accuracy: 0.8494 - lr: 1.0005e-42 - 6s/epoch - 639ms/step\n",
            "Epoch 7/30\n",
            "10/10 - 8s - loss: 0.1590 - accuracy: 0.9653 - val_loss: 0.6041 - val_accuracy: 0.8494 - lr: 1.0005e-42 - 8s/epoch - 770ms/step\n",
            "Epoch 8/30\n",
            "10/10 - 9s - loss: 0.1502 - accuracy: 0.9641 - val_loss: 0.6041 - val_accuracy: 0.8494 - lr: 9.9492e-44 - 9s/epoch - 933ms/step\n",
            "Epoch 9/30\n",
            "10/10 - 7s - loss: 0.1398 - accuracy: 0.9645 - val_loss: 0.6041 - val_accuracy: 0.8494 - lr: 9.9492e-44 - 7s/epoch - 674ms/step\n",
            "Epoch 10/30\n",
            "10/10 - 6s - loss: 0.1505 - accuracy: 0.9621 - val_loss: 0.6041 - val_accuracy: 0.8494 - lr: 9.8091e-45 - 6s/epoch - 646ms/step\n",
            "Epoch 11/30\n",
            "10/10 - 7s - loss: 0.1656 - accuracy: 0.9609 - val_loss: 0.6041 - val_accuracy: 0.8494 - lr: 9.8091e-45 - 7s/epoch - 741ms/step\n",
            "Epoch 12/30\n",
            "10/10 - 6s - loss: 0.1534 - accuracy: 0.9637 - val_loss: 0.6041 - val_accuracy: 0.8494 - lr: 1.4013e-45 - 6s/epoch - 574ms/step\n",
            "Epoch 13/30\n",
            "10/10 - 9s - loss: 0.1567 - accuracy: 0.9677 - val_loss: 0.6041 - val_accuracy: 0.8494 - lr: 1.4013e-45 - 9s/epoch - 855ms/step\n",
            "Epoch 14/30\n",
            "10/10 - 6s - loss: 0.1563 - accuracy: 0.9621 - val_loss: 0.6041 - val_accuracy: 0.8494 - lr: 0.0000e+00 - 6s/epoch - 578ms/step\n",
            "Epoch 15/30\n",
            "10/10 - 8s - loss: 0.1465 - accuracy: 0.9664 - val_loss: 0.6041 - val_accuracy: 0.8494 - lr: 0.0000e+00 - 8s/epoch - 804ms/step\n",
            "Epoch 16/30\n",
            "10/10 - 6s - loss: 0.1450 - accuracy: 0.9692 - val_loss: 0.6041 - val_accuracy: 0.8494 - lr: 0.0000e+00 - 6s/epoch - 575ms/step\n",
            "Epoch 17/30\n",
            "10/10 - 8s - loss: 0.1697 - accuracy: 0.9614 - val_loss: 0.6041 - val_accuracy: 0.8494 - lr: 0.0000e+00 - 8s/epoch - 811ms/step\n",
            "Epoch 18/30\n",
            "10/10 - 6s - loss: 0.1396 - accuracy: 0.9680 - val_loss: 0.6041 - val_accuracy: 0.8494 - lr: 0.0000e+00 - 6s/epoch - 589ms/step\n",
            "Epoch 19/30\n",
            "10/10 - 9s - loss: 0.1550 - accuracy: 0.9574 - val_loss: 0.6041 - val_accuracy: 0.8494 - lr: 0.0000e+00 - 9s/epoch - 865ms/step\n",
            "Epoch 20/30\n",
            "10/10 - 6s - loss: 0.1624 - accuracy: 0.9614 - val_loss: 0.6041 - val_accuracy: 0.8494 - lr: 0.0000e+00 - 6s/epoch - 597ms/step\n",
            "Epoch 21/30\n",
            "10/10 - 8s - loss: 0.1563 - accuracy: 0.9669 - val_loss: 0.6041 - val_accuracy: 0.8494 - lr: 0.0000e+00 - 8s/epoch - 808ms/step\n",
            "Epoch 22/30\n",
            "10/10 - 6s - loss: 0.1439 - accuracy: 0.9688 - val_loss: 0.6041 - val_accuracy: 0.8494 - lr: 0.0000e+00 - 6s/epoch - 578ms/step\n",
            "Epoch 23/30\n",
            "10/10 - 8s - loss: 0.1718 - accuracy: 0.9527 - val_loss: 0.6041 - val_accuracy: 0.8494 - lr: 0.0000e+00 - 8s/epoch - 836ms/step\n",
            "Epoch 24/30\n",
            "10/10 - 6s - loss: 0.1546 - accuracy: 0.9645 - val_loss: 0.6041 - val_accuracy: 0.8494 - lr: 0.0000e+00 - 6s/epoch - 571ms/step\n",
            "Epoch 25/30\n",
            "10/10 - 8s - loss: 0.1532 - accuracy: 0.9617 - val_loss: 0.6041 - val_accuracy: 0.8494 - lr: 0.0000e+00 - 8s/epoch - 830ms/step\n",
            "Epoch 26/30\n",
            "10/10 - 6s - loss: 0.1464 - accuracy: 0.9653 - val_loss: 0.6041 - val_accuracy: 0.8494 - lr: 0.0000e+00 - 6s/epoch - 578ms/step\n",
            "Epoch 27/30\n",
            "10/10 - 8s - loss: 0.1442 - accuracy: 0.9629 - val_loss: 0.6041 - val_accuracy: 0.8494 - lr: 0.0000e+00 - 8s/epoch - 757ms/step\n",
            "Epoch 28/30\n",
            "10/10 - 6s - loss: 0.1683 - accuracy: 0.9590 - val_loss: 0.6041 - val_accuracy: 0.8494 - lr: 0.0000e+00 - 6s/epoch - 617ms/step\n",
            "Epoch 29/30\n",
            "10/10 - 6s - loss: 0.1593 - accuracy: 0.9594 - val_loss: 0.6041 - val_accuracy: 0.8494 - lr: 0.0000e+00 - 6s/epoch - 648ms/step\n",
            "Epoch 30/30\n",
            "10/10 - 7s - loss: 0.1453 - accuracy: 0.9669 - val_loss: 0.6041 - val_accuracy: 0.8494 - lr: 0.0000e+00 - 7s/epoch - 726ms/step\n"
          ]
        }
      ]
    },
    {
      "cell_type": "code",
      "source": [
        "accuracy     = history.history['accuracy']\n",
        "val_accuracy = history.history['val_accuracy']\n",
        "\n",
        "loss         = history.history['loss']\n",
        "val_loss     = history.history['val_loss']\n",
        "\n",
        "epoch_range  = range(epoch)\n",
        "\n",
        "plt.figure(figsize = (12, 4))\n",
        "plt.subplot(1, 2, 1)\n",
        "plt.plot(epoch_range, accuracy,     label='Training Accuracy')\n",
        "plt.plot(epoch_range, val_accuracy, label='Validation Accuracy')\n",
        "plt.title('Training and Validation Accuracy')\n",
        "plt.xlabel('Epoch')\n",
        "plt.ylabel('Accuracy')\n",
        "plt.legend(loc='lower right')\n",
        "\n",
        "plt.subplot(1, 2, 2)\n",
        "plt.plot(epoch_range, loss,     label='Training Loss')\n",
        "plt.plot(epoch_range, val_loss, label='Validation Loss')\n",
        "plt.title('Training and Validation Loss')\n",
        "plt.xlabel('Epoch')\n",
        "plt.ylabel('Loss')\n",
        "plt.legend(loc='upper right')\n",
        "\n",
        "plt.show()"
      ],
      "metadata": {
        "colab": {
          "base_uri": "https://localhost:8080/",
          "height": 410
        },
        "id": "bPlaRm8OESON",
        "outputId": "436f03e2-5cf5-4916-b728-334fad079bad"
      },
      "execution_count": 344,
      "outputs": [
        {
          "output_type": "display_data",
          "data": {
            "text/plain": [
              "<Figure size 1200x400 with 2 Axes>"
            ],
            "image/png": "[encoded data removed]"
          },
          "metadata": {}
        }
      ]
    },
    {
      "cell_type": "code",
      "source": [
        "loss, accuracy = model.evaluate(paddedTest, labelTest)\n",
        "print('Accuracy:', accuracy)"
      ],
      "metadata": {
        "colab": {
          "base_uri": "https://localhost:8080/"
        },
        "id": "qeKaiI4FRmup",
        "outputId": "0412dcde-89fd-46ea-ab6d-7dfa90bb7293"
      },
      "execution_count": 337,
      "outputs": [
        {
          "output_type": "stream",
          "name": "stdout",
          "text": [
            "14/14 [==============================] - 1s 79ms/step - loss: 0.6041 - accuracy: 0.8494\n",
            "Accuracy: 0.8494381904602051\n"
          ]
        }
      ]
    }
  ]
}